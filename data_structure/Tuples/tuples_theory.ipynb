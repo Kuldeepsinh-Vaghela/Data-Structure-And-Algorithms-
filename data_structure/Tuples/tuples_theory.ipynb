{
 "cells": [
  {
   "cell_type": "code",
   "execution_count": 3,
   "metadata": {},
   "outputs": [
    {
     "name": "stdout",
     "output_type": "stream",
     "text": [
      "('a', 'b', 'c', 'd')\n",
      "('a',)\n",
      "('a', 'b', 'c', 'd')\n",
      "('a',)\n"
     ]
    }
   ],
   "source": [
    "# Creating a tuple\n",
    "tple = 'a','b','c','d'\n",
    "print(tple)\n",
    "# creating tuple with single element\n",
    "tple_2 = ('a',) # if we donot put ',' then python will consider it as string\n",
    "print(tple_2)\n",
    "# creating tuple using built in tuple function\n",
    "tple_3 = tuple('abcd')\n",
    "print(tple_3)\n",
    "tple_4 = tuple('a')\n",
    "print(tple_4)"
   ]
  },
  {
   "cell_type": "code",
   "execution_count": 4,
   "metadata": {},
   "outputs": [
    {
     "name": "stdout",
     "output_type": "stream",
     "text": [
      "c\n"
     ]
    }
   ],
   "source": [
    "# Accessing an element in tuple\n",
    "tple = 'a','b','c','d'\n",
    "print(tple[2])"
   ]
  },
  {
   "cell_type": "code",
   "execution_count": 5,
   "metadata": {},
   "outputs": [
    {
     "name": "stdout",
     "output_type": "stream",
     "text": [
      "a\n",
      "b\n",
      "c\n",
      "d\n"
     ]
    }
   ],
   "source": [
    "# Traversing through tuple\n",
    "tple = 'a','b','c','d'\n",
    "for i in tple:\n",
    "    print(i)"
   ]
  },
  {
   "cell_type": "code",
   "execution_count": 7,
   "metadata": {},
   "outputs": [
    {
     "name": "stdout",
     "output_type": "stream",
     "text": [
      "True\n",
      "3\n"
     ]
    }
   ],
   "source": [
    "# searching an element in tuple\n",
    "tple = 'a','b','c','d'\n",
    "print('a' in tple)\n",
    "# to get the value of index use .index function\n",
    "print(tple.index('d'))"
   ]
  },
  {
   "cell_type": "code",
   "execution_count": 8,
   "metadata": {},
   "outputs": [
    {
     "name": "stdout",
     "output_type": "stream",
     "text": [
      "('a', 'b', 'c', 'd', 'e', 'f', 'g', 'h')\n",
      "('a', 'b', 'c', 'd', 'a', 'b', 'c', 'd')\n",
      "3\n",
      "4\n",
      "1\n",
      "5\n",
      "(1, 2, 3, 4, 5, 6)\n"
     ]
    }
   ],
   "source": [
    "# Tuple operations and functions\n",
    "# + operator\n",
    "# combining two tuples\n",
    "tple = 'a','b','c','d'\n",
    "tple_2 = 'e','f','g','h'\n",
    "print(tple+tple_2)\n",
    "# * operator\n",
    "print(tple*2)\n",
    "# count\n",
    "tple_3 = 1,2,2,3,3,4,2,5\n",
    "print(tple_3.count(2))\n",
    "# len\n",
    "print(len(tple))\n",
    "# min max\n",
    "print(min(tple_3))\n",
    "print(max(tple_3))\n",
    "\n",
    "# tuple\n",
    "# coverts list to tuple\n",
    "print(tuple([1,2,3,4,5,6]))"
   ]
  },
  {
   "cell_type": "code",
   "execution_count": 9,
   "metadata": {},
   "outputs": [
    {
     "data": {
      "text/plain": [
       "(1, 2, 3, 'a')"
      ]
     },
     "execution_count": 9,
     "metadata": {},
     "output_type": "execute_result"
    }
   ],
   "source": [
    "a = 1,2,3,'a'\n",
    "a"
   ]
  },
  {
   "cell_type": "code",
   "execution_count": 11,
   "metadata": {},
   "outputs": [
    {
     "name": "stdout",
     "output_type": "stream",
     "text": [
      "10\n"
     ]
    }
   ],
   "source": [
    "a = 1,2\n",
    "b = (3,4)\n",
    "d = [a+b]\n",
    "d\n",
    "for x in d:\n",
    "    print(sum(x))\n"
   ]
  },
  {
   "cell_type": "code",
   "execution_count": 12,
   "metadata": {},
   "outputs": [
    {
     "name": "stdout",
     "output_type": "stream",
     "text": [
      "6\n"
     ]
    }
   ],
   "source": [
    "init_tuple = [(0, 1), (1, 2), (2, 3)]\n",
    " \n",
    "result = sum(n for _, n in init_tuple)\n",
    " \n",
    "print(result)"
   ]
  },
  {
   "cell_type": "code",
   "execution_count": null,
   "metadata": {},
   "outputs": [],
   "source": []
  }
 ],
 "metadata": {
  "kernelspec": {
   "display_name": "base",
   "language": "python",
   "name": "python3"
  },
  "language_info": {
   "codemirror_mode": {
    "name": "ipython",
    "version": 3
   },
   "file_extension": ".py",
   "mimetype": "text/x-python",
   "name": "python",
   "nbconvert_exporter": "python",
   "pygments_lexer": "ipython3",
   "version": "3.9.12"
  },
  "orig_nbformat": 4,
  "vscode": {
   "interpreter": {
    "hash": "555eaf241af5f9a809a201f9d625964ebf1eff8d1e4c1ca64115e0f26c96cfdb"
   }
  }
 },
 "nbformat": 4,
 "nbformat_minor": 2
}
