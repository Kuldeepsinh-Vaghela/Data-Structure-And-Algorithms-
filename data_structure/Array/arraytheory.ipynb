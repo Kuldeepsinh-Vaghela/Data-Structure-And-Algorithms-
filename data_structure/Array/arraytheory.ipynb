{
 "cells": [
  {
   "cell_type": "code",
   "execution_count": 4,
   "metadata": {},
   "outputs": [
    {
     "name": "stdout",
     "output_type": "stream",
     "text": [
      "[1 2 3] (3,)\n"
     ]
    }
   ],
   "source": [
    "# Creating an 1-D array\n",
    "import numpy as np\n",
    "x = np.array([1,2,3])\n",
    "print(x,x.shape)\n"
   ]
  },
  {
   "cell_type": "code",
   "execution_count": 52,
   "metadata": {},
   "outputs": [
    {
     "name": "stdout",
     "output_type": "stream",
     "text": [
      "[[1 2 3]\n",
      " [4 5 6]] (2, 3)\n"
     ]
    }
   ],
   "source": [
    "# Creating an 2-D array\n",
    "y = np.array([[1,2,3],[4,5,6]])\n",
    "print(y,y.shape)"
   ]
  },
  {
   "cell_type": "code",
   "execution_count": 53,
   "metadata": {},
   "outputs": [
    {
     "name": "stdout",
     "output_type": "stream",
     "text": [
      "[[[ 1  2  3]\n",
      "  [ 4  5  6]]\n",
      "\n",
      " [[ 7  8  9]\n",
      "  [10 11 12]]] (2, 2, 3)\n"
     ]
    }
   ],
   "source": [
    "# Creating an 3-D array\n",
    "z = np.array([[[1,2,3],[4,5,6]],[[7,8,9],[10,11,12]]])\n",
    "print(z,z.shape)\n"
   ]
  },
  {
   "attachments": {},
   "cell_type": "markdown",
   "metadata": {},
   "source": [
    "## ONE DIMENSIONAL ARRAY \n"
   ]
  },
  {
   "attachments": {},
   "cell_type": "markdown",
   "metadata": {},
   "source": [
    "# Insertion"
   ]
  },
  {
   "cell_type": "code",
   "execution_count": 54,
   "metadata": {},
   "outputs": [
    {
     "name": "stdout",
     "output_type": "stream",
     "text": [
      "[1 2 3 4]\n"
     ]
    }
   ],
   "source": [
    "# Inserting a value in the end in 1-D array\n",
    "x = np.array([1,2,3])\n",
    "x = np.insert(x,3,4) # x = array name, 3 = index value, 4 = value which you want to add \n",
    "print(x)\n"
   ]
  },
  {
   "cell_type": "code",
   "execution_count": 55,
   "metadata": {},
   "outputs": [
    {
     "data": {
      "text/plain": [
       "array([1, 2, 3, 4])"
      ]
     },
     "execution_count": 55,
     "metadata": {},
     "output_type": "execute_result"
    }
   ],
   "source": [
    "x"
   ]
  },
  {
   "cell_type": "code",
   "execution_count": 5,
   "metadata": {},
   "outputs": [
    {
     "data": {
      "text/plain": [
       "array([0, 1, 2, 3])"
      ]
     },
     "execution_count": 5,
     "metadata": {},
     "output_type": "execute_result"
    }
   ],
   "source": [
    "# Inserting a value in the beginning in 1-D array\n",
    "\n",
    "x = np.array([1,2,3])\n",
    "x = np.insert(x,0,0)\n",
    "x"
   ]
  },
  {
   "attachments": {},
   "cell_type": "markdown",
   "metadata": {},
   "source": [
    "# Traversing"
   ]
  },
  {
   "cell_type": "code",
   "execution_count": 57,
   "metadata": {},
   "outputs": [
    {
     "name": "stdout",
     "output_type": "stream",
     "text": [
      "0\n",
      "1\n",
      "2\n",
      "3\n",
      "4\n"
     ]
    }
   ],
   "source": [
    "for  a in x:\n",
    "    print(a)"
   ]
  },
  {
   "attachments": {},
   "cell_type": "markdown",
   "metadata": {},
   "source": [
    "# Accessing an element of array"
   ]
  },
  {
   "cell_type": "code",
   "execution_count": 58,
   "metadata": {},
   "outputs": [
    {
     "name": "stdout",
     "output_type": "stream",
     "text": [
      "0\n",
      "1\n",
      "2\n"
     ]
    }
   ],
   "source": [
    "print(x[0])\n",
    "print(x[1])\n",
    "print(x[2])"
   ]
  },
  {
   "attachments": {},
   "cell_type": "markdown",
   "metadata": {},
   "source": [
    "# Deleting an element from Array\n"
   ]
  },
  {
   "cell_type": "code",
   "execution_count": 59,
   "metadata": {},
   "outputs": [
    {
     "name": "stdout",
     "output_type": "stream",
     "text": [
      "Original array: [1 3 4 2 5]\n",
      "After deletion: [1 3 2 5]\n"
     ]
    }
   ],
   "source": [
    "# create a numpy array\n",
    "arr = np.array([1, 3, 4, 2, 5])\n",
    "# remove element at index 2\n",
    "arr_new = np.delete(arr, 2)\n",
    "# display the arrays\n",
    "print(\"Original array:\", arr)\n",
    "print(\"After deletion:\", arr_new)"
   ]
  },
  {
   "attachments": {},
   "cell_type": "markdown",
   "metadata": {},
   "source": [
    "## Two-Dimensional Array\n"
   ]
  },
  {
   "attachments": {},
   "cell_type": "markdown",
   "metadata": {},
   "source": [
    "# Insertion"
   ]
  },
  {
   "cell_type": "code",
   "execution_count": 60,
   "metadata": {},
   "outputs": [
    {
     "name": "stdout",
     "output_type": "stream",
     "text": [
      "orginal array: [[1 2 3]\n",
      " [4 5 6]]\n",
      "array after adding a new column in the beginning: [[7 1 2 3]\n",
      " [8 4 5 6]]\n",
      "array after adding a new row in the bginning: [[0 1 2]\n",
      " [1 2 3]\n",
      " [4 5 6]]\n",
      "array after appending a row : [[  1   2   3]\n",
      " [  4   5   6]\n",
      " [100 101 102]]\n"
     ]
    }
   ],
   "source": [
    "# create a 2-D array\n",
    "y = np.array([[1,2,3],[4,5,6]])\n",
    "# inserting a column in the beginning of the array\n",
    "new_y = np.insert(y,0,[[7,8]],axis = 1)\n",
    "# inserting a row in the beginning of array\n",
    "y_3 = np.insert(y,0,[0,1,2],axis=0)\n",
    "print(\"orginal array:\",y)\n",
    "print('array after adding a new column in the beginning:', new_y)\n",
    "print('array after adding a new row in the bginning:', y_3)\n",
    "#appending a row at the end\n",
    "y_4 = np.append(y,[[100,101,102]],axis = 0)\n",
    "print(\"array after appending a row :\", y_4)\n"
   ]
  },
  {
   "attachments": {},
   "cell_type": "markdown",
   "metadata": {},
   "source": [
    "# Deleting the row or column"
   ]
  },
  {
   "cell_type": "code",
   "execution_count": 61,
   "metadata": {},
   "outputs": [
    {
     "name": "stdout",
     "output_type": "stream",
     "text": [
      "Original array: [[ 1  2  3  4]\n",
      " [ 5  6  7  8]\n",
      " [ 9 10 11 12]\n",
      " [13 14 15 16]]\n",
      "array after deleting 1st row: [[ 5  6  7  8]\n",
      " [ 9 10 11 12]\n",
      " [13 14 15 16]]\n",
      "Array after deleting 1st column: [[ 2  3  4]\n",
      " [ 6  7  8]\n",
      " [10 11 12]\n",
      " [14 15 16]]\n",
      "reversed array: [[16 15 14 13]\n",
      " [12 11 10  9]\n",
      " [ 8  7  6  5]\n",
      " [ 4  3  2  1]]\n"
     ]
    }
   ],
   "source": [
    "# create a 2-D array\n",
    "arr = np.array([[1,2,3,4],[5,6,7,8],[9,10,11,12],[13,14,15,16]])\n",
    "print(\"Original array:\", arr)\n",
    "# Deleting the 1st row\n",
    "new_arr = np.delete(arr,0,axis=0)\n",
    "print(\"array after deleting 1st row:\", new_arr)\n",
    "#Deleting the 1st column\n",
    "new_arr_2 = np.delete(arr,0,axis=1)\n",
    "print(\"Array after deleting 1st column:\", new_arr_2)\n",
    "# reversing the array\n",
    "rvr_arr = np.flip(arr)\n",
    "print(\"reversed array:\", rvr_arr)"
   ]
  },
  {
   "attachments": {},
   "cell_type": "markdown",
   "metadata": {},
   "source": [
    "# Slicing"
   ]
  },
  {
   "cell_type": "code",
   "execution_count": 62,
   "metadata": {},
   "outputs": [
    {
     "name": "stdout",
     "output_type": "stream",
     "text": [
      "original array: [[ 1  2  3  4]\n",
      " [ 5  6  7  8]\n",
      " [ 9 10 11 12]\n",
      " [13 14 15 16]]\n",
      "sliced array: [5 6]\n"
     ]
    }
   ],
   "source": [
    "# create a 2-D array\n",
    "arr = np.array([[1,2,3,4],[5,6,7,8],[9,10,11,12],[13,14,15,16]])\n",
    "# slicing the arrray\n",
    "new_arr = arr[1,0:2]\n",
    "print(\"original array:\", arr)\n",
    "print(\"sliced array:\", new_arr)"
   ]
  },
  {
   "attachments": {},
   "cell_type": "markdown",
   "metadata": {},
   "source": [
    "### LISTS"
   ]
  },
  {
   "cell_type": "code",
   "execution_count": 69,
   "metadata": {},
   "outputs": [
    {
     "name": "stdout",
     "output_type": "stream",
     "text": [
      "original list: [1, 2, 3, 4, 5, 6, 7, 8, 9]\n",
      "updated list: [0, 2, 3, 4, 5, 6, 7, 8, 9]\n",
      "list after inserting an element : [0, 1, 2, 3, 4, 5, 6, 7, 8, 9]\n",
      "appending an element 10 at the end of the list: [0, 1, 2, 3, 4, 5, 6, 7, 8, 9, 10]\n",
      "list after appending a list at the end: [0, 1, 2, 3, 4, 5, 6, 7, 8, 9, 10, 11, 12, 13]\n"
     ]
    }
   ],
   "source": [
    "# Creating a list\n",
    "lt = [1,2,3,4,5,6,7,8,9]\n",
    "print(\"original list:\", lt)\n",
    "# updating an element in list\n",
    "lt[0] = 0\n",
    "print(\"updated list:\", lt)\n",
    "#Inserting an element to the list\n",
    "lt.insert(1,1)\n",
    "print(\"list after inserting an element :\", lt)\n",
    "# Inserting an element to the end\n",
    "lt.append(10)\n",
    "print(\"appending an element 10 at the end of the list:\", lt)\n",
    "# appending a list at the end of other list\n",
    "lt.extend([11,12,13])\n",
    "print(\"list after appending a list at the end:\", lt)\n"
   ]
  },
  {
   "attachments": {},
   "cell_type": "markdown",
   "metadata": {},
   "source": [
    "# List operations and functions"
   ]
  },
  {
   "cell_type": "code",
   "execution_count": 88,
   "metadata": {},
   "outputs": [
    {
     "name": "stdout",
     "output_type": "stream",
     "text": [
      "list 1: [1, 2, 3]\n",
      "List 2: [4, 5, 6]\n",
      "Concatenated list: [1, 2, 3, 4, 5, 6]\n",
      "[1, 2, 3, 1, 2, 3, 1, 2, 3]\n",
      "Length of the list 1: 3\n",
      "Max value in list 1: 3\n",
      "Max value in list 2: 6\n",
      "Min value in list 1: 1\n",
      "Min value in list 2: 4\n",
      "Sum of all the values in list 1: 6\n",
      "Sum of all the values in list 2: 15\n",
      "original list l1: [3, 7, 5, 6, 9, 2]\n",
      "Sorted list l1: [2, 3, 5, 6, 7, 9]\n",
      "sorted list l1: [2, 3, 5, 6, 7, 9]\n"
     ]
    }
   ],
   "source": [
    "# Creating two list\n",
    "l1 = [1,2,3]\n",
    "l2 = [4,5,6]\n",
    "# concatenating the two list\n",
    "l3 = l1+l2\n",
    "print(\"list 1:\", l1)\n",
    "print(\"List 2:\", l2)\n",
    "print(\"Concatenated list:\", l3)\n",
    "# * operator\n",
    "l4 = l1*3\n",
    "print(l4)\n",
    "#FUNCTIONS\n",
    "#finding the size of list\n",
    "print(\"Length of the list 1:\", len(l1))\n",
    "# finding the max value in list\n",
    "print(\"Max value in list 1:\", max(l1))\n",
    "print(\"Max value in list 2:\", max(l2))\n",
    "# finding the min value in a list\n",
    "print(\"Min value in list 1:\", min(l1))\n",
    "print(\"Min value in list 2:\", min(l2))\n",
    "# finding the sum of values in a list\n",
    "print(\"Sum of all the values in list 1:\", sum(l1))\n",
    "print(\"Sum of all the values in list 2:\", sum(l2))\n",
    "# sorting the elements of the list\n",
    "l1 = [3,7,5,6,9,2]\n",
    "print(\"original list l1:\", l1)\n",
    "#method 1\n",
    "l1.sort()\n",
    "print(\"Sorted list l1:\", l1)\n",
    "#method 2\n",
    "l2 = sorted(l1)\n",
    "print(\"sorted list l1:\", l2)"
   ]
  },
  {
   "cell_type": "code",
   "execution_count": 78,
   "metadata": {},
   "outputs": [
    {
     "name": "stdout",
     "output_type": "stream",
     "text": [
      "['k', 'u', 'l', 'd', 'e', 'e', 'p']\n"
     ]
    }
   ],
   "source": [
    "# Converting string to list\n",
    "s1 = \"kuldeep\"\n",
    "l1 = list(s1)\n",
    "print(l1)"
   ]
  },
  {
   "cell_type": "code",
   "execution_count": 84,
   "metadata": {},
   "outputs": [
    {
     "name": "stdout",
     "output_type": "stream",
     "text": [
      "['kuldeep', 'kuldeep', 'kuldeep']\n",
      "['kuldeep', 'kuldeep', 'kuldeep']\n",
      "kuldeep kuldeep kuldeep\n",
      "kuldeep-kuldeep-kuldeep\n"
     ]
    }
   ],
   "source": [
    "# Sentence to list of words\n",
    "s1 = \"kuldeep kuldeep kuldeep\"\n",
    "l1 = s1.split()\n",
    "print(l1)\n",
    "s2 = \"kuldeep-kuldeep-kuldeep\"\n",
    "l2 = s2.split('-')\n",
    "print(l2)\n",
    "# Joining words back to form a sentence\n",
    "print(' '.join(l1))\n",
    "print(\"-\".join(l2))"
   ]
  },
  {
   "cell_type": "code",
   "execution_count": null,
   "metadata": {},
   "outputs": [],
   "source": []
  }
 ],
 "metadata": {
  "kernelspec": {
   "display_name": "base",
   "language": "python",
   "name": "python3"
  },
  "language_info": {
   "codemirror_mode": {
    "name": "ipython",
    "version": 3
   },
   "file_extension": ".py",
   "mimetype": "text/x-python",
   "name": "python",
   "nbconvert_exporter": "python",
   "pygments_lexer": "ipython3",
   "version": "3.9.12"
  },
  "orig_nbformat": 4,
  "vscode": {
   "interpreter": {
    "hash": "555eaf241af5f9a809a201f9d625964ebf1eff8d1e4c1ca64115e0f26c96cfdb"
   }
  }
 },
 "nbformat": 4,
 "nbformat_minor": 2
}
