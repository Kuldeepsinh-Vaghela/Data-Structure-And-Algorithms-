{
 "cells": [
  {
   "cell_type": "code",
   "execution_count": 9,
   "metadata": {},
   "outputs": [
    {
     "data": {
      "text/plain": [
       "{'a': 1, 'b': 2}"
      ]
     },
     "execution_count": 9,
     "metadata": {},
     "output_type": "execute_result"
    }
   ],
   "source": [
    "# Creating a Dictionary\n",
    "mydict = {'a':1,'b':2}\n",
    "mydict\n"
   ]
  },
  {
   "cell_type": "code",
   "execution_count": 10,
   "metadata": {},
   "outputs": [
    {
     "data": {
      "text/plain": [
       "{'a': 1, 'b': 2, 'c': 3}"
      ]
     },
     "execution_count": 10,
     "metadata": {},
     "output_type": "execute_result"
    }
   ],
   "source": [
    "# Inserting an element in dictionary\n",
    "mydict['c'] = 3\n",
    "mydict"
   ]
  },
  {
   "cell_type": "code",
   "execution_count": 11,
   "metadata": {},
   "outputs": [
    {
     "data": {
      "text/plain": [
       "{'a': 0, 'b': 2, 'c': 3}"
      ]
     },
     "execution_count": 11,
     "metadata": {},
     "output_type": "execute_result"
    }
   ],
   "source": [
    "# Updating an element in dictionary\n",
    "mydict['a'] = 0\n",
    "mydict"
   ]
  },
  {
   "attachments": {},
   "cell_type": "markdown",
   "metadata": {},
   "source": [
    "## Deleting an element from dictionary"
   ]
  },
  {
   "attachments": {},
   "cell_type": "markdown",
   "metadata": {},
   "source": [
    " Method 1 pop()"
   ]
  },
  {
   "cell_type": "code",
   "execution_count": 15,
   "metadata": {},
   "outputs": [
    {
     "name": "stdout",
     "output_type": "stream",
     "text": [
      "0\n"
     ]
    },
    {
     "data": {
      "text/plain": [
       "{'b': 2, 'c': 3, 'd': 4}"
      ]
     },
     "execution_count": 15,
     "metadata": {},
     "output_type": "execute_result"
    }
   ],
   "source": [
    "# In this method we have to give the key as \\\n",
    "# input and it will delete the key and avlue pair from the dictionary and return the value\n",
    "mydict = {'a':0,'b':2,'c':3,'d':4}\n",
    "print(mydict.pop('a'))\n",
    "mydict"
   ]
  },
  {
   "attachments": {},
   "cell_type": "markdown",
   "metadata": {},
   "source": [
    "Method 2 popitem()"
   ]
  },
  {
   "cell_type": "code",
   "execution_count": 16,
   "metadata": {},
   "outputs": [
    {
     "name": "stdout",
     "output_type": "stream",
     "text": [
      "('d', 4)\n"
     ]
    },
    {
     "data": {
      "text/plain": [
       "{'a': 0, 'b': 2, 'c': 3}"
      ]
     },
     "execution_count": 16,
     "metadata": {},
     "output_type": "execute_result"
    }
   ],
   "source": [
    "# This method will delete arbitary items, both key and value and returns both the values\n",
    "mydict = {'a':0,'b':2,'c':3,'d':4}\n",
    "print(mydict.popitem())\n",
    "mydict"
   ]
  },
  {
   "attachments": {},
   "cell_type": "markdown",
   "metadata": {},
   "source": [
    " Method 3 clear()"
   ]
  },
  {
   "cell_type": "code",
   "execution_count": 17,
   "metadata": {},
   "outputs": [
    {
     "data": {
      "text/plain": [
       "{}"
      ]
     },
     "execution_count": 17,
     "metadata": {},
     "output_type": "execute_result"
    }
   ],
   "source": [
    "# This method will delete whole dictionary\n",
    "mydict = {'a':0,'b':2,'c':3,'d':4}\n",
    "mydict.clear()\n",
    "mydict\n"
   ]
  },
  {
   "attachments": {},
   "cell_type": "markdown",
   "metadata": {},
   "source": [
    "Method 4 del"
   ]
  },
  {
   "cell_type": "code",
   "execution_count": 1,
   "metadata": {},
   "outputs": [
    {
     "data": {
      "text/plain": [
       "{'b': 2, 'c': 3, 'd': 4}"
      ]
     },
     "execution_count": 1,
     "metadata": {},
     "output_type": "execute_result"
    }
   ],
   "source": [
    "# With this method we need to input value of key \n",
    "# And the key value pair will be deleted\n",
    "mydict = {'a':0,'b':2,'c':3,'d':4}\n",
    "# The way we write this function is different then other 3 functions\n",
    "del mydict['a']\n",
    "mydict\n",
    "# we can delete whole dictiionary using this function\n",
    "#\n",
    "# del mydict\n"
   ]
  },
  {
   "attachments": {},
   "cell_type": "markdown",
   "metadata": {},
   "source": [
    "# Dictionary Methods"
   ]
  },
  {
   "attachments": {},
   "cell_type": "markdown",
   "metadata": {},
   "source": [
    "Copying the dictionary"
   ]
  },
  {
   "cell_type": "code",
   "execution_count": 25,
   "metadata": {},
   "outputs": [
    {
     "name": "stdout",
     "output_type": "stream",
     "text": [
      "original dictionary: {'a': 0, 'b': 2, 'c': 3, 'd': 4}\n",
      "copied updated dictionary: {'a': 0, 'b': 2, 'c': 3, 'd': 4, 'e': 5}\n"
     ]
    }
   ],
   "source": [
    "# .copy() is used to copy a dict into new dict and we can then use new dict without updating old one\n",
    "mydict = {'a':0,'b':2,'c':3,'d':4}\n",
    "newdict = mydict.copy()\n",
    "newdict['e'] = 5\n",
    "print(\"original dictionary:\", mydict)\n",
    "print(\"copied updated dictionary:\", newdict)"
   ]
  },
  {
   "attachments": {},
   "cell_type": "markdown",
   "metadata": {},
   "source": [
    "Creating a dictionary from keys"
   ]
  },
  {
   "cell_type": "code",
   "execution_count": 30,
   "metadata": {},
   "outputs": [
    {
     "data": {
      "text/plain": [
       "{'a': 100, 'b': 100, 'c': 100, 'd': 100, 'e': 100}"
      ]
     },
     "execution_count": 30,
     "metadata": {},
     "output_type": "execute_result"
    }
   ],
   "source": [
    "# fromkeys method is used for that\n",
    "# in input it will take a sequence, which will be keys, and a value \n",
    "# dictionary.fromkeys(sequence,value)\n",
    "keys = ['a','b','c','d','e']\n",
    "value = 100\n",
    "newdict = {}.fromkeys(keys,value)\n",
    "newdict"
   ]
  },
  {
   "attachments": {},
   "cell_type": "markdown",
   "metadata": {},
   "source": [
    "Get Method"
   ]
  },
  {
   "cell_type": "code",
   "execution_count": 41,
   "metadata": {},
   "outputs": [
    {
     "name": "stdout",
     "output_type": "stream",
     "text": [
      "value corresponding to the key 'a' in dict: 0\n",
      "output when key is not present but default value is specified '100': 100\n",
      "output when key is not present and default value is not specified: None\n",
      "{'a': 0, 'b': 2, 'c': 3, 'd': 4}\n"
     ]
    }
   ],
   "source": [
    "# .get(key,value)\n",
    "# if the key is present the output will be the corresponding value\n",
    "# if key is not present the output, the value will become default value and it will be returned\n",
    "mydict = {'a':0,'b':2,'c':3,'d':4}\n",
    "print(\"value corresponding to the key 'a' in dict:\", mydict.get('a',100))\n",
    "print(\"output when key is not present but default value is specified '100':\", mydict.get('r',100))\n",
    "print(\"output when key is not present and default value is not specified:\", mydict.get('r'))\n",
    "# value in mydict is not updated \n",
    "print(mydict)"
   ]
  },
  {
   "attachments": {},
   "cell_type": "markdown",
   "metadata": {},
   "source": [
    "Dict.items()"
   ]
  },
  {
   "cell_type": "code",
   "execution_count": 2,
   "metadata": {},
   "outputs": [
    {
     "name": "stdout",
     "output_type": "stream",
     "text": [
      "dict_items([('a', 0), ('b', 2), ('c', 3), ('d', 4)])\n"
     ]
    }
   ],
   "source": [
    "# dictionary.items()\n",
    "# This function will return a list of all key value pairs in dictionary in the form of tuples\n",
    "mydict = {'a':0,'b':2,'c':3,'d':4}\n",
    "print(mydict.items())\n"
   ]
  },
  {
   "attachments": {},
   "cell_type": "markdown",
   "metadata": {},
   "source": [
    "Get Keys and Values"
   ]
  },
  {
   "cell_type": "code",
   "execution_count": 50,
   "metadata": {},
   "outputs": [
    {
     "name": "stdout",
     "output_type": "stream",
     "text": [
      "Dictionary: {'a': 0, 'b': 2, 'c': 3, 'd': 4}\n",
      "Keys: dict_keys(['a', 'b', 'c', 'd'])\n",
      "Values: dict_values([0, 2, 3, 4])\n"
     ]
    }
   ],
   "source": [
    "# .keys()\n",
    "# To get a list of all the keys\n",
    "mydict = {'a':0,'b':2,'c':3,'d':4}\n",
    "print(\"Dictionary:\", mydict)\n",
    "print(\"Keys:\", mydict.keys())\n",
    "# .values()\n",
    "# To get a list of all the values\n",
    "print(\"Values:\", mydict.values())"
   ]
  },
  {
   "attachments": {},
   "cell_type": "markdown",
   "metadata": {},
   "source": [
    "Setdefault\n"
   ]
  },
  {
   "cell_type": "code",
   "execution_count": 59,
   "metadata": {},
   "outputs": [
    {
     "name": "stdout",
     "output_type": "stream",
     "text": [
      "Value of the key 'a': 0\n",
      "Added key 'e' and returned its value '5': 5\n",
      "Updated dictionary: {'a': 0, 'b': 2, 'c': 3, 'd': 4, 'e': 5}\n",
      "Added key 'f' and returned none as its value is not specified: None\n",
      "new updated dict: {'a': 0, 'b': 2, 'c': 3, 'd': 4, 'e': 5, 'f': None}\n"
     ]
    }
   ],
   "source": [
    "# setdefault(key,default_value)\n",
    "# It will return the value of key if the key is present\n",
    "# If the key is not present it will update the dictionary with the assigned key and value\n",
    "mydict = {'a':0,'b':2,'c':3,'d':4}\n",
    "print(\"Value of the key 'a':\",mydict.setdefault('a',5))\n",
    "print(\"Added key 'e' and returned its value '5':\", mydict.setdefault('e',5))\n",
    "print(\"Updated dictionary:\", mydict)\n",
    "print(\"Added key 'f' and returned none as its value is not specified:\", mydict.setdefault('f'))\n",
    "print(\"new updated dict:\", mydict)"
   ]
  },
  {
   "attachments": {},
   "cell_type": "markdown",
   "metadata": {},
   "source": [
    "Update method"
   ]
  },
  {
   "cell_type": "code",
   "execution_count": 63,
   "metadata": {},
   "outputs": [
    {
     "name": "stdout",
     "output_type": "stream",
     "text": [
      "updated mydict: {'a': 0, 'b': 2, 'c': 3, 'd': 4, 'e': 5, 'f': 6, 'g': 7, 'h': 8}\n"
     ]
    }
   ],
   "source": [
    "# dictionary.update(other_dictionary) OR dictionary.update(tuple)\n",
    "mydict = {'a':0,'b':2,'c':3,'d':4}\n",
    "newdict = {'e':5,'f':6,'g':7,'h':8}\n",
    "tuple_values = (('i',9),('j',10),('k',11),('l',12))\n",
    "mydict.update(newdict)\n",
    "# mydict.update(tuple_values)\n",
    "# updated mydict: {'a': 0, 'b': 2, 'c': 3, 'd': 4, 'i': 9, 'j': 10, 'k': 11, 'l': 12}\n",
    "print(\"updated mydict:\", mydict)"
   ]
  },
  {
   "attachments": {},
   "cell_type": "markdown",
   "metadata": {},
   "source": [
    "# Dictionary Functions"
   ]
  },
  {
   "cell_type": "code",
   "execution_count": 70,
   "metadata": {},
   "outputs": [
    {
     "name": "stdout",
     "output_type": "stream",
     "text": [
      "yes\n",
      "True\n"
     ]
    }
   ],
   "source": [
    "# In\n",
    "mydict = {'a':0,'b':2,'c':3,'d':4}\n",
    "k = 'a'\n",
    "if k in mydict:\n",
    "    print(\"yes\")\n",
    "# IN operator only reads keys and not values\n",
    "l = 0\n",
    "if l in mydict:\n",
    "    print(\"no\")\n",
    "# To check value we need to call .values()\n",
    "print(0 in mydict.values())"
   ]
  },
  {
   "cell_type": "code",
   "execution_count": 71,
   "metadata": {},
   "outputs": [
    {
     "name": "stdout",
     "output_type": "stream",
     "text": [
      "0\n",
      "2\n",
      "3\n",
      "4\n"
     ]
    }
   ],
   "source": [
    "# for\n",
    "mydict = {'a':0,'b':2,'c':3,'d':4}\n",
    "for keys in mydict:\n",
    "    print(mydict[keys])"
   ]
  },
  {
   "cell_type": "code",
   "execution_count": 73,
   "metadata": {},
   "outputs": [
    {
     "name": "stdout",
     "output_type": "stream",
     "text": [
      "True\n",
      "True\n"
     ]
    }
   ],
   "source": [
    "# all\n",
    "# It returns true only if all the elements of the iterable are true else false\n",
    "# If the dictioanry is empty it will return true\n",
    "mydict = {'1':True,'2':True}\n",
    "print(all(mydict))\n",
    "newdict = {}\n",
    "print(all(newdict))"
   ]
  },
  {
   "cell_type": "code",
   "execution_count": 75,
   "metadata": {},
   "outputs": [
    {
     "name": "stdout",
     "output_type": "stream",
     "text": [
      "True\n",
      "False\n"
     ]
    }
   ],
   "source": [
    "# any\n",
    "# This method will return true if any element of the collection is true orelse false\n",
    "# If there is an empty dictionary then it returns false\n",
    "mydict = {'1':True,'2':False}\n",
    "print(any(mydict))\n",
    "newdict = {}\n",
    "print(any(newdict))"
   ]
  },
  {
   "cell_type": "code",
   "execution_count": 77,
   "metadata": {},
   "outputs": [
    {
     "name": "stdout",
     "output_type": "stream",
     "text": [
      "4\n"
     ]
    }
   ],
   "source": [
    "# len\n",
    "# gives the number of key value pairs of dictionary\n",
    "mydict = {'a':0,'b':2,'c':3,'d':4}\n",
    "print(len(mydict))"
   ]
  },
  {
   "cell_type": "code",
   "execution_count": 90,
   "metadata": {},
   "outputs": [
    {
     "name": "stdout",
     "output_type": "stream",
     "text": [
      "['a', 'b', 'd', 'e']\n",
      "['afae', 'wfwwa', 'bfefawf', 'buubuininijijd']\n"
     ]
    }
   ],
   "source": [
    "# sorted(iterable,reverse,key)\n",
    "# sorts the dict according to key\n",
    "mydict = {'d':5,'e':2,'a':0,'b':4}\n",
    "print(sorted(mydict))\n",
    "newdict = {'buubuininijijd':5,'afae':2,'wfwwa':0,'bfefawf':4}\n",
    "print(sorted(newdict,key=len)) # it will sort based on the length of the key"
   ]
  },
  {
   "cell_type": "code",
   "execution_count": null,
   "metadata": {},
   "outputs": [],
   "source": []
  }
 ],
 "metadata": {
  "kernelspec": {
   "display_name": "base",
   "language": "python",
   "name": "python3"
  },
  "language_info": {
   "codemirror_mode": {
    "name": "ipython",
    "version": 3
   },
   "file_extension": ".py",
   "mimetype": "text/x-python",
   "name": "python",
   "nbconvert_exporter": "python",
   "pygments_lexer": "ipython3",
   "version": "3.9.12"
  },
  "orig_nbformat": 4,
  "vscode": {
   "interpreter": {
    "hash": "555eaf241af5f9a809a201f9d625964ebf1eff8d1e4c1ca64115e0f26c96cfdb"
   }
  }
 },
 "nbformat": 4,
 "nbformat_minor": 2
}
